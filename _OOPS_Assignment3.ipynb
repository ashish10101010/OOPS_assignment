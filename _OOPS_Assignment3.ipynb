{
  "nbformat": 4,
  "nbformat_minor": 0,
  "metadata": {
    "colab": {
      "provenance": []
    },
    "kernelspec": {
      "name": "python3",
      "display_name": "Python 3"
    },
    "language_info": {
      "name": "python"
    }
  },
  "cells": [
    {
      "cell_type": "markdown",
      "source": [
        "##OOPS Assignment 3\n"
      ],
      "metadata": {
        "id": "dEcxuOpJ19ZM"
      }
    },
    {
      "cell_type": "code",
      "execution_count": 1,
      "metadata": {
        "colab": {
          "base_uri": "https://localhost:8080/"
        },
        "id": "G4AS94UX17q1",
        "outputId": "d322e3f9-939e-4186-e694-af1f64abf2f3"
      },
      "outputs": [
        {
          "output_type": "stream",
          "name": "stdout",
          "text": [
            "Area: 50\n",
            "Perimeter: 30\n"
          ]
        }
      ],
      "source": [
        "# Q1. What is Abstraction in OOP? Explain with an example.\n",
        "# Abstraction in Object-Oriented Programming (OOP) is the concept of hiding the complex implementation details and showing only the necessary features of an object.\n",
        "# It helps in reducing programming complexity and effort by providing a simplified model of the real-world scenario\n",
        "from abc import ABC, abstractmethod\n",
        "\n",
        "# Abstract class\n",
        "class Shape(ABC):\n",
        "    @abstractmethod\n",
        "    def area(self):\n",
        "        pass\n",
        "\n",
        "    @abstractmethod\n",
        "    def perimeter(self):\n",
        "        pass\n",
        "\n",
        "# Concrete class\n",
        "class Rectangle(Shape):\n",
        "    def __init__(self, width, height):\n",
        "        self.width = width\n",
        "        self.height = height\n",
        "\n",
        "    def area(self):\n",
        "        return self.width * self.height\n",
        "\n",
        "    def perimeter(self):\n",
        "        return 2 * (self.width + self.height)\n",
        "\n",
        "# Usage\n",
        "rect = Rectangle(5, 10)\n",
        "print(f\"Area: {rect.area()}\")        # Output: Area: 50\n",
        "print(f\"Perimeter: {rect.perimeter()}\")  # Output: Perimeter: 30\n"
      ]
    },
    {
      "cell_type": "code",
      "source": [
        "# Q2. Differentiate between Abstraction and Encapsulation. Explain with an example.\n",
        "# Abstraction:\n",
        "\n",
        "# Abstraction is the process of hiding the implementation details and showing only the essential features of an object.\n",
        "# It focuses on what the object does rather than how it does it.\n",
        "# Encapsulation:\n",
        "\n",
        "# Encapsulation is the mechanism of bundling the data (attributes) and methods (functions) that operate on the data into a single unit, usually a class. It also restricts direct access to some of an object's components.\n",
        "# It focuses on hiding the internal state and protecting the integrity of the object's data.\n",
        "class Car:\n",
        "    def __init__(self, make, model, year):\n",
        "        self.__make = make    # Encapsulation: private attribute\n",
        "        self.__model = model  # Encapsulation: private attribute\n",
        "        self.__year = year    # Encapsulation: private attribute\n",
        "\n",
        "    def start_engine(self):\n",
        "        return \"Engine started\"  # Abstraction: user interacts with this method without knowing the details\n",
        "\n",
        "    def get_details(self):\n",
        "        return f\"{self.__year} {self.__make} {self.__model}\"\n",
        "\n",
        "# Usage\n",
        "car = Car(\"Toyota\", \"Camry\", 2020)\n",
        "print(car.start_engine())    # Output: Engine started\n",
        "print(car.get_details())     # Output: 2020 Toyota Camry\n"
      ],
      "metadata": {
        "colab": {
          "base_uri": "https://localhost:8080/"
        },
        "id": "GMv6Uixb2SZZ",
        "outputId": "784e9a35-406d-4fa8-c9ff-688dd9ff3954"
      },
      "execution_count": 3,
      "outputs": [
        {
          "output_type": "stream",
          "name": "stdout",
          "text": [
            "Engine started\n",
            "2020 Toyota Camry\n"
          ]
        }
      ]
    },
    {
      "cell_type": "code",
      "source": [
        "# Q3. What is the abc module in Python? Why is it used?\n",
        "# The abc module in Python stands for \"Abstract Base Classes.\" It provides tools for defining abstract base classes, which are classes that cannot be instantiated directly and are meant to be subclassed.\n",
        "#This module is used to enforce that derived classes implement particular methods from the base class\n",
        "from abc import ABC, abstractmethod\n",
        "\n",
        "class Animal(ABC):\n",
        "    @abstractmethod\n",
        "    def sound(self):\n",
        "        pass\n",
        "\n",
        "class Dog(Animal):\n",
        "    def sound(self):\n",
        "        return \"Bark\"\n",
        "\n",
        "# animal = Animal()  # This will raise an error: TypeError: Can't instantiate abstract class Animal with abstract methods sound\n",
        "dog = Dog()\n",
        "print(dog.sound())  # Output: Bark\n"
      ],
      "metadata": {
        "colab": {
          "base_uri": "https://localhost:8080/"
        },
        "id": "-rFZae1q2bZU",
        "outputId": "8da904ad-c5be-496b-891d-78c699ad0774"
      },
      "execution_count": 4,
      "outputs": [
        {
          "output_type": "stream",
          "name": "stdout",
          "text": [
            "Bark\n"
          ]
        }
      ]
    },
    {
      "cell_type": "code",
      "source": [
        "# Q4. How can we achieve data abstraction?\n",
        "# Data abstraction can be achieved by using abstract classes and interfaces.\n",
        "# In Python, abstract classes are defined using the abc module, which allows the creation of abstract methods that must be implemented by subclasses\n",
        "from abc import ABC, abstractmethod\n",
        "\n",
        "class Payment(ABC):\n",
        "    @abstractmethod\n",
        "    def pay(self, amount):\n",
        "        pass\n",
        "\n",
        "class CreditCardPayment(Payment):\n",
        "    def pay(self, amount):\n",
        "        return f\"Paid {amount} using Credit Card\"\n",
        "\n",
        "class PayPalPayment(Payment):\n",
        "    def pay(self, amount):\n",
        "        return f\"Paid {amount} using PayPal\"\n",
        "\n",
        "# Usage\n",
        "payment = CreditCardPayment()\n",
        "print(payment.pay(100))  # Output: Paid 100 using Credit Card\n"
      ],
      "metadata": {
        "colab": {
          "base_uri": "https://localhost:8080/"
        },
        "id": "QNkL4b9I2tKq",
        "outputId": "2fc9044c-860b-4eeb-b63f-8e0e5b6fdb26"
      },
      "execution_count": 5,
      "outputs": [
        {
          "output_type": "stream",
          "name": "stdout",
          "text": [
            "Paid 100 using Credit Card\n"
          ]
        }
      ]
    },
    {
      "cell_type": "code",
      "source": [
        "# Q5. Can we create an instance of an abstract class? Explain your answer.\n",
        "# No, we cannot create an instance of an abstract class. Abstract classes are designed to be inherited by other classes that implement the abstract methods defined in the abstract class.\n",
        "# Attempting to instantiate an abstract class will result in a TypeError\n",
        "from abc import ABC, abstractmethod\n",
        "\n",
        "class Shape(ABC):\n",
        "    @abstractmethod\n",
        "    def area(self):\n",
        "        pass\n",
        "\n",
        "# shape = Shape()  # This will raise an error: TypeError: Can't instantiate abstract class Shape with abstract methods area\n",
        "\n",
        "class Circle(Shape):\n",
        "    def __init__(self, radius):\n",
        "        self.radius = radius\n",
        "\n",
        "    def area(self):\n",
        "        return 3.14 * self.radius * self.radius\n",
        "\n",
        "# Usage\n",
        "circle = Circle(5)\n",
        "print(circle.area())  # Output: 78.5\n"
      ],
      "metadata": {
        "colab": {
          "base_uri": "https://localhost:8080/"
        },
        "id": "CBidp2QR221K",
        "outputId": "18513409-7c47-4768-b508-d2ef7d8af868"
      },
      "execution_count": 6,
      "outputs": [
        {
          "output_type": "stream",
          "name": "stdout",
          "text": [
            "78.5\n"
          ]
        }
      ]
    },
    {
      "cell_type": "code",
      "source": [],
      "metadata": {
        "id": "VX3n-d7P3Cpx"
      },
      "execution_count": null,
      "outputs": []
    }
  ]
}