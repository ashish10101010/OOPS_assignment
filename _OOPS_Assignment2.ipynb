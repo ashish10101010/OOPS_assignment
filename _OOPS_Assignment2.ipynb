{
  "nbformat": 4,
  "nbformat_minor": 0,
  "metadata": {
    "colab": {
      "provenance": []
    },
    "kernelspec": {
      "name": "python3",
      "display_name": "Python 3"
    },
    "language_info": {
      "name": "python"
    }
  },
  "cells": [
    {
      "cell_type": "markdown",
      "source": [
        "##OOPS Assignment 2"
      ],
      "metadata": {
        "id": "NvnhvPtNwY_l"
      }
    },
    {
      "cell_type": "code",
      "execution_count": 1,
      "metadata": {
        "colab": {
          "base_uri": "https://localhost:8080/"
        },
        "id": "9-v52j4iwXLi",
        "outputId": "fc86cca0-c29a-4e43-e9f5-e6562c509a63"
      },
      "outputs": [
        {
          "output_type": "stream",
          "name": "stdout",
          "text": [
            "Buddy\n",
            "Golden Retriever\n",
            "Buddy says woof!\n"
          ]
        }
      ],
      "source": [
        "# #Q1. Explain Class and Object with respect to Object-Oriented Programming. Give a suitable example.\n",
        "# In Object-Oriented Programming (OOP), a class is a blueprint for creating objects. It defines a set of attributes and methods that the created objects will have. An object is an instance of a class.\n",
        "#When a class is defined, no memory is allocated until an object of that class is created.\n",
        "class Dog:\n",
        "    def __init__(self, name, breed):\n",
        "        self.name = name\n",
        "        self.breed = breed\n",
        "\n",
        "    def bark(self):\n",
        "        return f\"{self.name} says woof!\"\n",
        "\n",
        "# Creating an object of the Dog class\n",
        "my_dog = Dog(\"Buddy\", \"Golden Retriever\")\n",
        "\n",
        "# Accessing attributes and methods\n",
        "print(my_dog.name)  # Output: Buddy\n",
        "print(my_dog.breed) # Output: Golden Retriever\n",
        "print(my_dog.bark()) # Output: Buddy says woof!\n"
      ]
    },
    {
      "cell_type": "code",
      "source": [
        "# Q2. Name the four pillars of OOPs.\n",
        "# The four pillars of Object-Oriented Programming are:\n",
        "\n",
        "# Encapsulation: Bundling the data (attributes) and methods (functions) that operate on the data into a single unit or class, and restricting access to some of the object's components.\n",
        "# Abstraction: Hiding the complex implementation details and showing only the essential features of the object.\n",
        "# Inheritance: Mechanism by which one class (child class) inherits the attributes and methods from another class (parent class).\n",
        "# Polymorphism: Ability to present the same interface for different underlying forms (data types)."
      ],
      "metadata": {
        "id": "f7wAVlk0wjZ4"
      },
      "execution_count": null,
      "outputs": []
    },
    {
      "cell_type": "code",
      "source": [
        "# #Q3. Explain why the __init__() function is used. Give a suitable example.\n",
        "# The __init__() function is a special method in Python classes. It is known as a constructor and is automatically called when an object of the class is instantiated.\n",
        "# The __init__() function is used to initialize the object's attributes with the values passed during object creation\n",
        "class Person:\n",
        "    def __init__(self, name, age):\n",
        "        self.name = name\n",
        "        self.age = age\n",
        "\n",
        "    def display_info(self):\n",
        "        return f\"Name: {self.name}, Age: {self.age}\"\n",
        "\n",
        "# Creating an object of the Person class\n",
        "person1 = Person(\"Alice\", 30)\n",
        "\n",
        "# Accessing attributes and methods\n",
        "print(person1.display_info())  # Output: Name: Alice, Age: 30\n"
      ],
      "metadata": {
        "colab": {
          "base_uri": "https://localhost:8080/"
        },
        "id": "9yI0AxvBwjl-",
        "outputId": "0a048f6a-d707-4e42-e3f3-0b6c2d9e96d6"
      },
      "execution_count": 2,
      "outputs": [
        {
          "output_type": "stream",
          "name": "stdout",
          "text": [
            "Name: Alice, Age: 30\n"
          ]
        }
      ]
    },
    {
      "cell_type": "code",
      "source": [
        "# #Q4. Why self is used in OOPs?\n",
        "# self is a reference to the current instance of the class and is used to access variables and methods associated with the object.\n",
        "# It allows each object to keep track of its own data. self is the first parameter of any instance method in a class and helps in distinguishing between instance variables and local variables.\n",
        "class Car:\n",
        "    def __init__(self, model, year):\n",
        "        self.model = model\n",
        "        self.year = year\n",
        "\n",
        "    def display_info(self):\n",
        "        return f\"Model: {self.model}, Year: {self.year}\"\n",
        "\n",
        "# Creating an object of the Car class\n",
        "car1 = Car(\"Toyota Corolla\", 2020)\n",
        "\n",
        "# Accessing attributes and methods\n",
        "print(car1.display_info())  # Output: Model: Toyota Corolla, Year: 2020\n"
      ],
      "metadata": {
        "colab": {
          "base_uri": "https://localhost:8080/"
        },
        "id": "5bWfUUEVwjxu",
        "outputId": "a9a9e00c-2072-4fb3-c0c2-6e71416b9a3a"
      },
      "execution_count": 3,
      "outputs": [
        {
          "output_type": "stream",
          "name": "stdout",
          "text": [
            "Model: Toyota Corolla, Year: 2020\n"
          ]
        }
      ]
    },
    {
      "cell_type": "code",
      "source": [
        "#Q5. What is inheritance? Give an example for each type of inheritance\n",
        "# 1. Single Inheritance\n",
        "# Single inheritance involves a subclass inheriting from one superclass.\n",
        "# Parent class\n",
        "class Animal:\n",
        "    def speak(self):\n",
        "        return \"Animal speaks\"\n",
        "\n",
        "# Child class\n",
        "class Dog(Animal):\n",
        "    def bark(self):\n",
        "        return \"Dog barks\"\n",
        "\n",
        "# Example usage\n",
        "dog = Dog()\n",
        "print(dog.speak())\n",
        "print(dog.bark())\n"
      ],
      "metadata": {
        "colab": {
          "base_uri": "https://localhost:8080/"
        },
        "id": "KNsZ1G_ywj8O",
        "outputId": "31ead8d5-6253-40ca-9e5b-07b0050e8c99"
      },
      "execution_count": 4,
      "outputs": [
        {
          "output_type": "stream",
          "name": "stdout",
          "text": [
            "Animal speaks\n",
            "Dog barks\n"
          ]
        }
      ]
    },
    {
      "cell_type": "code",
      "source": [
        "# 2. Multiple Inheritance\n",
        "# Multiple inheritance allows a subclass to inherit from more than one superclass\n",
        "# Parent class 1\n",
        "class Flyer:\n",
        "    def fly(self):\n",
        "        return \"Can fly\"\n",
        "\n",
        "# Parent class 2\n",
        "class Swimmer:\n",
        "    def swim(self):\n",
        "        return \"Can swim\"\n",
        "\n",
        "# Child class\n",
        "class Duck(Flyer, Swimmer):\n",
        "    def quack(self):\n",
        "        return \"Duck quacks\"\n",
        "\n",
        "# Example usage\n",
        "duck = Duck()\n",
        "print(duck.fly())   # Output: Can fly\n",
        "print(duck.swim())  # Output: Can swim\n",
        "print(duck.quack()) # Output: Duck quacks\n"
      ],
      "metadata": {
        "colab": {
          "base_uri": "https://localhost:8080/"
        },
        "id": "pOWz3qy1zFkS",
        "outputId": "1e2a9b74-858d-44ae-d925-06fdb7d9f3f7"
      },
      "execution_count": 5,
      "outputs": [
        {
          "output_type": "stream",
          "name": "stdout",
          "text": [
            "Can fly\n",
            "Can swim\n",
            "Duck quacks\n"
          ]
        }
      ]
    },
    {
      "cell_type": "code",
      "source": [
        "# 3. Multilevel Inheritance\n",
        "# Multilevel inheritance is when a subclass inherits from another subclass, forming a chain.\n",
        "# Parent class\n",
        "class LivingBeing:\n",
        "    def breathe(self):\n",
        "        return \"Breathing\"\n",
        "\n",
        "# Intermediate child class\n",
        "class Animal(LivingBeing):\n",
        "    def move(self):\n",
        "        return \"Moving\"\n",
        "\n",
        "# Final child class\n",
        "class Bird(Animal):\n",
        "    def fly(self):\n",
        "        return \"Flying\"\n",
        "\n",
        "# Example usage\n",
        "bird = Bird()\n",
        "print(bird.breathe())  # Output: Breathing\n",
        "print(bird.move())     # Output: Moving\n",
        "print(bird.fly())      # Output: Flying\n"
      ],
      "metadata": {
        "colab": {
          "base_uri": "https://localhost:8080/"
        },
        "id": "Y4Qj6TVCzUhJ",
        "outputId": "9b391a27-c50f-4aa5-a800-0d5823299870"
      },
      "execution_count": 6,
      "outputs": [
        {
          "output_type": "stream",
          "name": "stdout",
          "text": [
            "Breathing\n",
            "Moving\n",
            "Flying\n"
          ]
        }
      ]
    },
    {
      "cell_type": "code",
      "source": [
        "# 4. Hierarchical Inheritance\n",
        "# Hierarchical inheritance involves multiple subclasses inheriting from a single superclass.\n",
        "# Parent class\n",
        "class Vehicle:\n",
        "    def start(self):\n",
        "        return \"Vehicle starting\"\n",
        "\n",
        "# Child class 1\n",
        "class Car(Vehicle):\n",
        "    def drive(self):\n",
        "        return \"Car driving\"\n",
        "\n",
        "# Child class 2\n",
        "class Bike(Vehicle):\n",
        "    def ride(self):\n",
        "        return \"Bike riding\"\n",
        "\n",
        "# Example usage\n",
        "car = Car()\n",
        "print(car.start())  # Output: Vehicle starting\n",
        "print(car.drive())  # Output: Car driving\n",
        "\n",
        "bike = Bike()\n",
        "print(bike.start())  # Output: Vehicle starting\n",
        "print(bike.ride())   # Output: Bike riding\n"
      ],
      "metadata": {
        "colab": {
          "base_uri": "https://localhost:8080/"
        },
        "id": "iKAfr79_zdk9",
        "outputId": "e607dadd-8b1b-48e7-8ad4-add8b74a7844"
      },
      "execution_count": 7,
      "outputs": [
        {
          "output_type": "stream",
          "name": "stdout",
          "text": [
            "Vehicle starting\n",
            "Car driving\n",
            "Vehicle starting\n",
            "Bike riding\n"
          ]
        }
      ]
    },
    {
      "cell_type": "code",
      "source": [
        "# 5. Hybrid Inheritance\n",
        "# Hybrid inheritance is a combination of two or more types of inheritance.\n",
        "# It involves a complex scenario combining single, multiple, multilevel, and hierarchical inheritance\n",
        "# Parent class\n",
        "class LivingBeing:\n",
        "    def breathe(self):\n",
        "        return \"Breathing\"\n",
        "\n",
        "# Intermediate parent class 1\n",
        "class Animal(LivingBeing):\n",
        "    def move(self):\n",
        "        return \"Moving\"\n",
        "\n",
        "# Intermediate parent class 2\n",
        "class Plant(LivingBeing):\n",
        "    def photosynthesize(self):\n",
        "        return \"Photosynthesizing\"\n",
        "\n",
        "# Child class\n",
        "class Hybrid(Animal, Plant):\n",
        "    def exist(self):\n",
        "        return \"Hybrid exists\"\n",
        "\n",
        "# Example usage\n",
        "hybrid = Hybrid()\n",
        "print(hybrid.breathe())\n",
        "print(hybrid.move())\n",
        "print(hybrid.photosynthesize())\n",
        "print(hybrid.exist())\n"
      ],
      "metadata": {
        "colab": {
          "base_uri": "https://localhost:8080/"
        },
        "id": "nEQVGUICzsXT",
        "outputId": "507cdbe9-bf91-4696-99c1-fe2c5893a104"
      },
      "execution_count": 8,
      "outputs": [
        {
          "output_type": "stream",
          "name": "stdout",
          "text": [
            "Breathing\n",
            "Moving\n",
            "Photosynthesizing\n",
            "Hybrid exists\n"
          ]
        }
      ]
    },
    {
      "cell_type": "code",
      "source": [],
      "metadata": {
        "id": "2hPD9hG1z4js"
      },
      "execution_count": null,
      "outputs": []
    }
  ]
}