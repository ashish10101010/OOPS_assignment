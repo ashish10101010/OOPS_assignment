{
  "nbformat": 4,
  "nbformat_minor": 0,
  "metadata": {
    "colab": {
      "provenance": []
    },
    "kernelspec": {
      "name": "python3",
      "display_name": "Python 3"
    },
    "language_info": {
      "name": "python"
    }
  },
  "cells": [
    {
      "cell_type": "markdown",
      "source": [
        "#OOPS Assignment\n"
      ],
      "metadata": {
        "id": "WAPflDHNvBXW"
      }
    },
    {
      "cell_type": "code",
      "execution_count": 1,
      "metadata": {
        "colab": {
          "base_uri": "https://localhost:8080/"
        },
        "id": "CfoJSd5qt2xA",
        "outputId": "55571cc0-cb79-4b68-f677-518542c56454"
      },
      "outputs": [
        {
          "output_type": "stream",
          "name": "stdout",
          "text": [
            "Car\n",
            "200\n",
            "15\n"
          ]
        }
      ],
      "source": [
        "#Q1. Create a vehicle class with an __init__ method having instance variables as name_of_vehicle, max_speed and average_of_vehicle.\n",
        "class Vehicle:\n",
        "    def __init__(self, name_of_vehicle, max_speed, average_of_vehicle):\n",
        "        self.name_of_vehicle = name_of_vehicle\n",
        "        self.max_speed = max_speed\n",
        "        self.average_of_vehicle = average_of_vehicle\n",
        "\n",
        "# Example usage\n",
        "v = Vehicle(\"Car\", 200, 15)\n",
        "print(v.name_of_vehicle)  # Output: Car\n",
        "print(v.max_speed)  # Output: 200\n",
        "print(v.average_of_vehicle)  # Output: 15\n"
      ]
    },
    {
      "cell_type": "code",
      "source": [
        "# Q2. Create a child class car from the vehicle class created in Q1, which will inherit the vehicle class. Create a method named seating_capacity which takes capacity as an argument and returns the name of the vehicle and its seating capacity.\n",
        "class Car(Vehicle):\n",
        "    def seating_capacity(self, capacity):\n",
        "        return f\"{self.name_of_vehicle} has a seating capacity of {capacity} people.\"\n",
        "\n",
        "# Example usage\n",
        "c = Car(\"Sedan\", 180, 12)\n",
        "print(c.seating_capacity(5))  # Output: Sedan has a seating capacity of 5 people.\n"
      ],
      "metadata": {
        "colab": {
          "base_uri": "https://localhost:8080/"
        },
        "id": "b0NsMpoWt9l0",
        "outputId": "e94efc24-6302-4f57-839b-fce60c104003"
      },
      "execution_count": 2,
      "outputs": [
        {
          "output_type": "stream",
          "name": "stdout",
          "text": [
            "Sedan has a seating capacity of 5 people.\n"
          ]
        }
      ]
    },
    {
      "cell_type": "code",
      "source": [
        "# #Q3. What is multiple inheritance? Write a python code to demonstrate multiple inheritance.\n",
        "# Multiple inheritance is a feature in which a class can inherit attributes and methods from more than one parent class.\n",
        "class Parent1:\n",
        "    def method1(self):\n",
        "        return \"This is method1 from Parent1\"\n",
        "\n",
        "class Parent2:\n",
        "    def method2(self):\n",
        "        return \"This is method2 from Parent2\"\n",
        "\n",
        "class Child(Parent1, Parent2):\n",
        "    pass\n",
        "\n",
        "# Example usage\n",
        "child_instance = Child()\n",
        "print(child_instance.method1())  # Output: This is method1 from Parent1\n",
        "print(child_instance.method2())  # Output: This is method2 from Parent2\n"
      ],
      "metadata": {
        "colab": {
          "base_uri": "https://localhost:8080/"
        },
        "id": "h-zFepTRuRCw",
        "outputId": "72759aa2-01f5-40fe-f63d-9fce65d8bddf"
      },
      "execution_count": 3,
      "outputs": [
        {
          "output_type": "stream",
          "name": "stdout",
          "text": [
            "This is method1 from Parent1\n",
            "This is method2 from Parent2\n"
          ]
        }
      ]
    },
    {
      "cell_type": "code",
      "source": [
        "# #Q4. What are getter and setter in python? Create a class and create a getter and a setter method in this class.\n",
        "# Getters and setters are methods used to access and update the value of an attribute in a class\n",
        "class Person:\n",
        "    def __init__(self, name):\n",
        "        self._name = name  # Note the underscore, indicating a \"private\" variable\n",
        "\n",
        "    # Getter method\n",
        "    @property\n",
        "    def name(self):\n",
        "        return self._name\n",
        "\n",
        "    # Setter method\n",
        "    @name.setter\n",
        "    def name(self, value):\n",
        "        self._name = value\n",
        "\n",
        "# Example usage\n",
        "p = Person(\"John\")\n",
        "print(p.name)  # Output: John\n",
        "\n",
        "p.name = \"Jane\"\n",
        "print(p.name)  # Output: Jane\n"
      ],
      "metadata": {
        "colab": {
          "base_uri": "https://localhost:8080/"
        },
        "id": "aHBOf3Seub8J",
        "outputId": "6c5dee97-42ed-4582-e10c-a7196b7a1400"
      },
      "execution_count": 4,
      "outputs": [
        {
          "output_type": "stream",
          "name": "stdout",
          "text": [
            "John\n",
            "Jane\n"
          ]
        }
      ]
    },
    {
      "cell_type": "code",
      "source": [
        "# #Q5. What is method overriding in python? Write a python code to demonstrate method overriding.\n",
        "# Method overriding in Python occurs when a subclass provides a specific implementation for a method that is already defined in its superclass.\n",
        "class Animal:\n",
        "    def make_sound(self):\n",
        "        return \"Some generic sound\"\n",
        "\n",
        "class Dog(Animal):\n",
        "    def make_sound(self):\n",
        "        return \"Bark\"\n",
        "\n",
        "# Example usage\n",
        "animal = Animal()\n",
        "dog = Dog()\n",
        "\n",
        "print(animal.make_sound())  # Output: Some generic sound\n",
        "print(dog.make_sound())     # Output: Bark\n"
      ],
      "metadata": {
        "colab": {
          "base_uri": "https://localhost:8080/"
        },
        "id": "0kb3YLqkunpx",
        "outputId": "03abf415-984a-43ec-f31b-63040d5e4e19"
      },
      "execution_count": 5,
      "outputs": [
        {
          "output_type": "stream",
          "name": "stdout",
          "text": [
            "Some generic sound\n",
            "Bark\n"
          ]
        }
      ]
    },
    {
      "cell_type": "code",
      "source": [],
      "metadata": {
        "id": "PFzj_YvWuxHj"
      },
      "execution_count": null,
      "outputs": []
    }
  ]
}